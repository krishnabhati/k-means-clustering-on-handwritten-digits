{
 "cells": [
  {
   "cell_type": "code",
   "execution_count": 1,
   "metadata": {},
   "outputs": [
    {
     "name": "stdout",
     "output_type": "stream",
     "text": [
      "python: 3.7.1 (default, Dec 10 2018, 22:54:23) [MSC v.1915 64 bit (AMD64)]\n",
      "sklearn: 0.20.1\n"
     ]
    }
   ],
   "source": [
    "import sys\n",
    "import sklearn\n",
    "import matplotlib\n",
    "import numpy as np\n",
    "\n",
    "print('python:',format(sys.version))\n",
    "print('sklearn:',format(sklearn.__version__))"
   ]
  },
  {
   "cell_type": "code",
   "execution_count": 2,
   "metadata": {},
   "outputs": [
    {
     "name": "stderr",
     "output_type": "stream",
     "text": [
      "Using TensorFlow backend.\n",
      "C:\\Users\\sam\\Anaconda3\\lib\\site-packages\\tensorflow\\python\\framework\\dtypes.py:526: FutureWarning: Passing (type, 1) or '1type' as a synonym of type is deprecated; in a future version of numpy, it will be understood as (type, (1,)) / '(1,)type'.\n",
      "  _np_qint8 = np.dtype([(\"qint8\", np.int8, 1)])\n",
      "C:\\Users\\sam\\Anaconda3\\lib\\site-packages\\tensorflow\\python\\framework\\dtypes.py:527: FutureWarning: Passing (type, 1) or '1type' as a synonym of type is deprecated; in a future version of numpy, it will be understood as (type, (1,)) / '(1,)type'.\n",
      "  _np_quint8 = np.dtype([(\"quint8\", np.uint8, 1)])\n",
      "C:\\Users\\sam\\Anaconda3\\lib\\site-packages\\tensorflow\\python\\framework\\dtypes.py:528: FutureWarning: Passing (type, 1) or '1type' as a synonym of type is deprecated; in a future version of numpy, it will be understood as (type, (1,)) / '(1,)type'.\n",
      "  _np_qint16 = np.dtype([(\"qint16\", np.int16, 1)])\n",
      "C:\\Users\\sam\\Anaconda3\\lib\\site-packages\\tensorflow\\python\\framework\\dtypes.py:529: FutureWarning: Passing (type, 1) or '1type' as a synonym of type is deprecated; in a future version of numpy, it will be understood as (type, (1,)) / '(1,)type'.\n",
      "  _np_quint16 = np.dtype([(\"quint16\", np.uint16, 1)])\n",
      "C:\\Users\\sam\\Anaconda3\\lib\\site-packages\\tensorflow\\python\\framework\\dtypes.py:530: FutureWarning: Passing (type, 1) or '1type' as a synonym of type is deprecated; in a future version of numpy, it will be understood as (type, (1,)) / '(1,)type'.\n",
      "  _np_qint32 = np.dtype([(\"qint32\", np.int32, 1)])\n",
      "C:\\Users\\sam\\Anaconda3\\lib\\site-packages\\tensorflow\\python\\framework\\dtypes.py:535: FutureWarning: Passing (type, 1) or '1type' as a synonym of type is deprecated; in a future version of numpy, it will be understood as (type, (1,)) / '(1,)type'.\n",
      "  np_resource = np.dtype([(\"resource\", np.ubyte, 1)])\n"
     ]
    }
   ],
   "source": [
    "from keras.datasets import mnist\n",
    "(x_train , y_train),(x_test,y_test) = mnist.load_data()"
   ]
  },
  {
   "cell_type": "code",
   "execution_count": 3,
   "metadata": {},
   "outputs": [
    {
     "name": "stdout",
     "output_type": "stream",
     "text": [
      "Training Data: {} (60000, 28, 28)\n",
      "Training labels: {} (60000,)\n"
     ]
    }
   ],
   "source": [
    "print('Training Data: {}',format(x_train.shape))\n",
    "print('Training labels: {}',format(y_train.shape))"
   ]
  },
  {
   "cell_type": "code",
   "execution_count": 4,
   "metadata": {},
   "outputs": [
    {
     "name": "stdout",
     "output_type": "stream",
     "text": [
      "Testing Data:  (10000, 28, 28)\n",
      "Testing Labels:  (10000,)\n"
     ]
    }
   ],
   "source": [
    "print('Testing Data: ', format(x_test.shape))\n",
    "print('Testing Labels: ', format(y_test.shape))"
   ]
  },
  {
   "cell_type": "code",
   "execution_count": 5,
   "metadata": {},
   "outputs": [],
   "source": [
    "\n",
    "import matplotlib\n",
    "matplotlib.use('svg')\n",
    "\n",
    "import matplotlib.pyplot as plt\n",
    "#Python magic function\n",
    "%matplotlib inline"
   ]
  },
  {
   "cell_type": "code",
   "execution_count": 6,
   "metadata": {},
   "outputs": [
    {
     "name": "stderr",
     "output_type": "stream",
     "text": [
      "C:\\Users\\sam\\Anaconda3\\lib\\site-packages\\matplotlib\\figure.py:445: UserWarning: Matplotlib is currently using module://ipykernel.pylab.backend_inline, which is a non-GUI backend, so cannot show the figure.\n",
      "  % get_backend())\n"
     ]
    },
    {
     "data": {
      "image/png": "[encoded data removed]",
      "text/plain": [
       "<Figure size 864x864 with 9 Axes>"
      ]
     },
     "metadata": {
      "needs_background": "light"
     },
     "output_type": "display_data"
    }
   ],
   "source": [
    "#create fig with3X3 subplots using matplotlib.pyplot\n",
    "fig,axs = plt.subplots(3,3,figsize = (12,12))\n",
    "plt.gray()\n",
    "\n",
    "#loop through subplots and add mnist images\n",
    "for i,ax in enumerate(axs.flat):\n",
    "    ax.matshow(x_train[i])\n",
    "    ax.axis('off')\n",
    "    ax.set_title(y_train[i])\n",
    "               \n",
    "#Display the image\n",
    "    fig.show()"
   ]
  },
  {
   "cell_type": "code",
   "execution_count": 7,
   "metadata": {},
   "outputs": [
    {
     "name": "stdout",
     "output_type": "stream",
     "text": [
      "(60000, 784)\n",
      "(784,)\n"
     ]
    }
   ],
   "source": [
    "#Preprocessing the image\n",
    "# Convert Each img To 1D Array\n",
    "X= x_train.reshape(len(x_train),-1)\n",
    "Y=y_train\n",
    "\n",
    "#Normalize the Data 0 - 1\n",
    "X = X.astype(float) / 255.\n",
    "\n",
    "print(X.shape)\n",
    "print(X[0].shape)"
   ]
  },
  {
   "cell_type": "code",
   "execution_count": 8,
   "metadata": {},
   "outputs": [
    {
     "name": "stdout",
     "output_type": "stream",
     "text": [
      "10\n"
     ]
    },
    {
     "data": {
      "text/plain": [
       "MiniBatchKMeans(batch_size=100, compute_labels=True, init='k-means++',\n",
       "        init_size=None, max_iter=100, max_no_improvement=10, n_clusters=10,\n",
       "        n_init=3, random_state=None, reassignment_ratio=0.01, tol=0.0,\n",
       "        verbose=0)"
      ]
     },
     "execution_count": 8,
     "metadata": {},
     "output_type": "execute_result"
    }
   ],
   "source": [
    "from sklearn.cluster import MiniBatchKMeans\n",
    "\n",
    "n_digits=len(np.unique(y_test))\n",
    "print(n_digits)\n",
    "\n",
    "#initialize KMeans model\n",
    "kmeans = MiniBatchKMeans(n_clusters = n_digits)\n",
    "\n",
    "#Fit the Model\n",
    "kmeans.fit(X)"
   ]
  },
  {
   "cell_type": "code",
   "execution_count": 9,
   "metadata": {},
   "outputs": [
    {
     "data": {
      "text/plain": [
       "array([0, 8, 2, 1, 5, 7, 1, 0, 1, 3, 4, 1, 4, 9, 1, 3, 7, 0, 9, 3])"
      ]
     },
     "execution_count": 9,
     "metadata": {},
     "output_type": "execute_result"
    }
   ],
   "source": [
    "kmeans.labels_[:20]"
   ]
  },
  {
   "cell_type": "code",
   "execution_count": 10,
   "metadata": {},
   "outputs": [],
   "source": [
    "def infer_cluster_labels(kmeans,actual_labels):\n",
    "    \"\"\"\n",
    "    Associates most probable label with each cluster in kmeans model\n",
    "    returns:dictonary of clusters assigned to each label\n",
    "    \"\"\"\n",
    "    \n",
    "    inferred_labels = {}\n",
    "    \n",
    "    for i in range(kmeans.n_clusters):\n",
    "        \n",
    "        \n",
    "        #find index of points in clusters\n",
    "        labels = []\n",
    "        index = np.where(kmeans.labels_ == i)\n",
    "    \n",
    "        #append atual labels for each point in cluster\n",
    "        labels.append(actual_labels[index])\n",
    "    \n",
    "        #determine most common labels\n",
    "        if len(labels[0]) == 1:\n",
    "            counts = np.bincount(labels[0])\n",
    "        else:\n",
    "            counts = np.bincount(np.squeeze(labels))\n",
    "            \n",
    "            #assign the cluster to a value in the inferred_labels dictonary\n",
    "        if np.argmax(counts) in inferred_labels:\n",
    "            #append the new no. in the existing array at this key\n",
    "            inferred_labels[np.argmax(counts)].append(i)\n",
    "        else:\n",
    "            # create a new array for this key\n",
    "            inferred_labels[np.argmax(counts)] = [i]\n",
    "            \n",
    "        ##print(labels)\n",
    "       ## print('cluster: {},label: {}',format(i,np.argmax(counts)))\n",
    "            \n",
    "            \n",
    "    return inferred_labels\n",
    "\n",
    "def infer_data_labels(X_labels,cluster_labels):\n",
    "    \"\"\"\n",
    "    Determines labels For each  array,depending on the cluster it has been assigned to \n",
    "    returns: predicted labels for each array\n",
    "    \"\"\"\n",
    "    #empty array of len(X)\n",
    "    predicted_labels = np.zeros(len(X_labels)).astype(np.uint8)\n",
    "    \n",
    "    for i ,cluster in enumerate(X_labels):\n",
    "        for key,value in cluster_labels.items():\n",
    "            if cluster in value:\n",
    "                predicted_labels[i] = key\n",
    "                \n",
    "    return predicted_labels\n",
    "\n",
    "        "
   ]
  },
  {
   "cell_type": "code",
   "execution_count": 11,
   "metadata": {},
   "outputs": [
    {
     "name": "stdout",
     "output_type": "stream",
     "text": [
      "[5 0 4 1 9 2 1 5 1 7 3 1 3 6 1 7 2 5 6 7]\n",
      "[5 0 4 1 9 2 1 3 1 4 3 5 3 6 1 7 2 8 6 9]\n"
     ]
    }
   ],
   "source": [
    "#test the infer_cluster_label() and infer_data_label()  Functions\n",
    "cluster_labels = infer_cluster_labels(kmeans,Y)\n",
    "X_clusters = kmeans.predict(X)\n",
    "predicted_labels = infer_data_labels(X_clusters,cluster_labels)\n",
    "print (predicted_labels[:20])\n",
    "print (Y[:20])"
   ]
  },
  {
   "cell_type": "code",
   "execution_count": 12,
   "metadata": {},
   "outputs": [],
   "source": [
    "## optimizing and Evaluating the Clustering algorithm\n",
    "from sklearn import metrics\n",
    "\n",
    "def calculate_metrics(estimator,data,labels):\n",
    "    \n",
    "    #calculating and print matrics\n",
    "    print('Number of Clusters: {}'.format(estimator.n_clusters))\n",
    "    print('Inertia: {}'.format(estimator.inertia_))\n",
    "    print('Homogeneity: {}'.format(metrics.homogeneity_score(labels,estimator.labels_)))"
   ]
  },
  {
   "cell_type": "code",
   "execution_count": 13,
   "metadata": {},
   "outputs": [
    {
     "name": "stdout",
     "output_type": "stream",
     "text": [
      "Number of Clusters: 10\n",
      "Inertia: 2398444.758813886\n",
      "Homogeneity: 0.4636762779282943\n",
      "Accuracy: 0.5617 \n",
      "\n",
      "Number of Clusters: 16\n",
      "Inertia: 2273131.532454797\n",
      "Homogeneity: 0.5019328609817444\n",
      "Accuracy: 0.5824166666666667 \n",
      "\n",
      "Number of Clusters: 36\n",
      "Inertia: 1954900.303277633\n",
      "Homogeneity: 0.6782712175519247\n",
      "Accuracy: 0.75055 \n",
      "\n",
      "Number of Clusters: 64\n",
      "Inertia: 1818613.717867468\n",
      "Homogeneity: 0.7368293298614458\n",
      "Accuracy: 0.8105833333333333 \n",
      "\n",
      "Number of Clusters: 256\n",
      "Inertia: 1518564.0735550055\n",
      "Homogeneity: 0.8398474301449748\n",
      "Accuracy: 0.8962 \n",
      "\n"
     ]
    },
    {
     "name": "stderr",
     "output_type": "stream",
     "text": [
      "C:\\Users\\sam\\Anaconda3\\lib\\site-packages\\sklearn\\cluster\\k_means_.py:1559: RuntimeWarning: init_size=300 should be larger than k=400. Setting it to 3*k\n",
      "  init_size=init_size)\n",
      "C:\\Users\\sam\\Anaconda3\\lib\\site-packages\\sklearn\\cluster\\k_means_.py:1559: RuntimeWarning: init_size=300 should be larger than k=400. Setting it to 3*k\n",
      "  init_size=init_size)\n",
      "C:\\Users\\sam\\Anaconda3\\lib\\site-packages\\sklearn\\cluster\\k_means_.py:1559: RuntimeWarning: init_size=300 should be larger than k=400. Setting it to 3*k\n",
      "  init_size=init_size)\n"
     ]
    },
    {
     "name": "stdout",
     "output_type": "stream",
     "text": [
      "Number of Clusters: 400\n",
      "Inertia: 1434007.719626252\n",
      "Homogeneity: 0.865171985831317\n",
      "Accuracy: 0.9093333333333333 \n",
      "\n"
     ]
    }
   ],
   "source": [
    "clusters = [10,16,36,64,256,400]\n",
    "\n",
    "#test diff no. of clusters\n",
    "for n_clusters in clusters:\n",
    "    \n",
    "    estimator = MiniBatchKMeans(n_clusters = n_clusters)\n",
    "    estimator.fit(X)\n",
    "    \n",
    "    #print cluster metrics\n",
    "    calculate_metrics(estimator,X,Y)\n",
    "    \n",
    "    #Determine Predicted Labels\n",
    "    cluster_labels = infer_cluster_labels(estimator,Y)\n",
    "    predicted_Y = infer_data_labels(estimator.labels_, cluster_labels)\n",
    "    \n",
    "    #Calculate the print accuracy\n",
    "    print('Accuracy: {} \\n'.format(metrics.accuracy_score(Y,predicted_Y)))"
   ]
  },
  {
   "cell_type": "code",
   "execution_count": 16,
   "metadata": {},
   "outputs": [
    {
     "name": "stderr",
     "output_type": "stream",
     "text": [
      "C:\\Users\\sam\\Anaconda3\\lib\\site-packages\\sklearn\\cluster\\k_means_.py:1559: RuntimeWarning: init_size=300 should be larger than k=400. Setting it to 3*k\n",
      "  init_size=init_size)\n",
      "C:\\Users\\sam\\Anaconda3\\lib\\site-packages\\sklearn\\cluster\\k_means_.py:1559: RuntimeWarning: init_size=300 should be larger than k=400. Setting it to 3*k\n",
      "  init_size=init_size)\n",
      "C:\\Users\\sam\\Anaconda3\\lib\\site-packages\\sklearn\\cluster\\k_means_.py:1559: RuntimeWarning: init_size=300 should be larger than k=400. Setting it to 3*k\n",
      "  init_size=init_size)\n"
     ]
    },
    {
     "name": "stdout",
     "output_type": "stream",
     "text": [
      "Testing_Accuracy: 0.9112\n"
     ]
    }
   ],
   "source": [
    "#test KMeans on testing Dataset\n",
    "#Convert Each Image Into 1D Array\n",
    "X_test=x_test.reshape(len(x_test),-1)\n",
    "\n",
    "#Normalize the data to 0 - 1 \n",
    "X_test = X_test.astype(float)/255.\n",
    "\n",
    "#initialize and fit KMeans on training data\n",
    "kmeans = MiniBatchKMeans(n_clusters = 400)\n",
    "kmeans.fit(X)\n",
    "cluster_labels = infer_cluster_labels(kmeans,Y)\n",
    "\n",
    "#predict the labels for testing data\n",
    "test_clusters = kmeans.predict(X_test)\n",
    "predicted_labels = infer_data_labels(test_clusters, cluster_labels)\n",
    "\n",
    "#Calculate And print accuracy\n",
    "print('Testing_Accuracy: {}'.format(metrics.accuracy_score(y_test,predicted_labels)))"
   ]
  },
  {
   "cell_type": "code",
   "execution_count": 17,
   "metadata": {},
   "outputs": [
    {
     "name": "stderr",
     "output_type": "stream",
     "text": [
      "C:\\Users\\sam\\Anaconda3\\lib\\site-packages\\matplotlib\\figure.py:445: UserWarning: Matplotlib is currently using module://ipykernel.pylab.backend_inline, which is a non-GUI backend, so cannot show the figure.\n",
      "  % get_backend())\n"
     ]
    },
    {
     "data": {
      "image/png": "[encoded data removed]",
      "text/plain": [
       "<Figure size 1440x1440 with 36 Axes>"
      ]
     },
     "metadata": {
      "needs_background": "light"
     },
     "output_type": "display_data"
    }
   ],
   "source": [
    "#Visualize cluster centroid\n",
    "#initialize and fit  kmeans algoritm\n",
    "\n",
    "kmeans = MiniBatchKMeans(n_clusters = 36)\n",
    "kmeans.fit(X)\n",
    "\n",
    "#record centroid values\n",
    "centroids = kmeans.cluster_centers_\n",
    "\n",
    "#Reshape centroids into images\n",
    "\n",
    "images = centroids.reshape(36,28,28)\n",
    "images *=255\n",
    "images = images.astype(np.uint8)\n",
    "\n",
    "#Determine Cluster Labels\n",
    "cluster_labels = infer_cluster_labels(kmeans,Y)\n",
    "\n",
    "#create fig with subplots using matplotlib.pyplot\n",
    "fig.axs = plt.subplots(6,6,figsize=(20,20))\n",
    "plt.gray()\n",
    "\n",
    "\n",
    "#Loop through subplots and add centroid images\n",
    "for i ,ax in enumerate(axs.flat):\n",
    "    #determine inferred labels using cluster_labels dictionary\n",
    "    for key ,value in cluster_labels.items():\n",
    "        if i in value:\n",
    "            ax.set_title('inferred_label: {}'.format(key))\n",
    "            \n",
    "    #add img to subplot\n",
    "    ax.matshow(images[i])\n",
    "    ax.axis('off')\n",
    "    \n",
    "    #display the shape\n",
    "    fig.show()"
   ]
  },
  {
   "cell_type": "code",
   "execution_count": null,
   "metadata": {},
   "outputs": [],
   "source": []
  },
  {
   "cell_type": "code",
   "execution_count": null,
   "metadata": {},
   "outputs": [],
   "source": []
  }
 ],
 "metadata": {
  "kernelspec": {
   "display_name": "Python 3",
   "language": "python",
   "name": "python3"
  },
  "language_info": {
   "codemirror_mode": {
    "name": "ipython",
    "version": 3
   },
   "file_extension": ".py",
   "mimetype": "text/x-python",
   "name": "python",
   "nbconvert_exporter": "python",
   "pygments_lexer": "ipython3",
   "version": "3.7.1"
  }
 },
 "nbformat": 4,
 "nbformat_minor": 2
}
